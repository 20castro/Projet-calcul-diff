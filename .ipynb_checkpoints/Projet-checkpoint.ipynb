{
 "cells": [
  {
   "cell_type": "markdown",
   "metadata": {},
   "source": [
    "# Projet numérique - Calcul différentiel\n",
    "Antoine Rousseau et David Castro"
   ]
  },
  {
   "cell_type": "code",
   "execution_count": 33,
   "metadata": {},
   "outputs": [],
   "source": [
    "import autograd\n",
    "import autograd.numpy as np\n",
    "\n",
    "import pandas as pd\n",
    "\n",
    "import matplotlib as mpl\n",
    "import matplotlib.pyplot as plt\n",
    "plt.rcParams['figure.figsize'] = [10, 10] # [width, height] (inches).\n",
    "\n",
    "import random\n",
    "\n",
    "from IPython.display import display"
   ]
  },
  {
   "cell_type": "code",
   "execution_count": 75,
   "metadata": {},
   "outputs": [],
   "source": [
    "def grad(f):\n",
    "    g = autograd.grad\n",
    "    def grad_f(x, y):\n",
    "        return np.array([g(f, 0)(x, y), g(f, 1)(x, y)])\n",
    "    return grad_f"
   ]
  },
  {
   "cell_type": "code",
   "execution_count": 74,
   "metadata": {},
   "outputs": [],
   "source": [
    "def J(f):\n",
    "    j = autograd.jacobian\n",
    "    def J_f(x, y):\n",
    "        return np.array([j(f, 0)(x, y), j(f, 1)(x, y)]).T\n",
    "    return J_f"
   ]
  },
  {
   "cell_type": "code",
   "execution_count": 69,
   "metadata": {},
   "outputs": [],
   "source": [
    "# On a dû modifier légèrement la fonction pour pouvoir mettre d'autres courbes sur le même graphique\n",
    "\n",
    "def display_contour(f, x, y, levels):\n",
    "    X, Y = np.meshgrid(x, y)\n",
    "    Z = f(X, Y)\n",
    "    #fig, ax = plt.subplots()\n",
    "    contour_set = plt.contour(\n",
    "        X, Y, Z, colors=\"grey\", linestyles=\"dashed\", \n",
    "        levels=levels \n",
    "    )\n",
    "    #ax.clabel(contour_set)\n",
    "    plt.grid(True)\n",
    "    plt.xlabel(\"$x_1$\") \n",
    "    plt.ylabel(\"$x_2$\")\n",
    "    plt.gca().set_aspect(\"equal\")"
   ]
  },
  {
   "cell_type": "code",
   "execution_count": 70,
   "metadata": {},
   "outputs": [],
   "source": [
    "## Exemples de référence\n",
    "\n",
    "def f1(x1, x2):\n",
    "    x1 = np.array(x1)\n",
    "    x2 = np.array(x2)\n",
    "    return 3.0 * x1 * x1 - 2.0 * x1 * x2 + 3.0 * x2 * x2\n",
    "\n",
    "def f2(x1, x2):\n",
    "    return (x1 - 1)**2 + (x1 - x2**2)**2\n",
    "\n",
    "def f3(x, y):\n",
    "    return np.sin(x + y) - np.cos(x * y) - 1 + 0.001 * (x * x + y * y)"
   ]
  },
  {
   "cell_type": "markdown",
   "metadata": {},
   "source": [
    "# Question 1"
   ]
  },
  {
   "cell_type": "markdown",
   "metadata": {},
   "source": [
    "La courbe de niveau $c$ de $f$ est bornée car, par hypothèse, il existe $A \\in \\mathbb R$ tel que :\n",
    "$\\forall x \\in \\mathbb R^2, \\vert \\vert x \\vert \\vert \\geqslant A \\implies f(x) \\geqslant c + 1$.\n",
    "Elle est donc incluse dans $\\mathcal B (0, A)$.\n",
    "\n",
    "C'est également un fermé car $\\{c\\}$ est un fermé de $\\mathbb R$ donc, par\n",
    "continuité de $f$, $f^{-1}(\\{c\\})$ est fermé dans $\\mathbb R^2$. \n",
    "\n",
    "Comme on est en dimension finie, la courbe de niveau $c$ de $f$ est donc un compact de $\\mathbb R^2$."
   ]
  },
  {
   "cell_type": "markdown",
   "metadata": {},
   "source": [
    "# Question 2"
   ]
  },
  {
   "cell_type": "markdown",
   "metadata": {},
   "source": [
    "$ \\mathbf u =\\frac{1}{\\vert \\vert \\nabla f(x_0)\\vert \\vert}(\\partial_2 f(x_0), -\\partial_1 f(x_0))$\n",
    "est le vecteur normé tangent à la courbe de niveau en $x_0$ vers \"la droite\" quand on regarde dans la direction de\n",
    "$\\nabla f(x_0)$.\n",
    "\n",
    "En effet, on sait que le gradient en $x_0$ est normal à la courbe. Or\n",
    "$R = \n",
    "\\begin{pmatrix}\n",
    "    0 & 1 \\\\ -1 & 0\n",
    "\\end{pmatrix}\n",
    "$\n",
    "est la matrice de rotation d'angle $-\\frac{\\pi}{2}$ et $\\mathbf u = R \\cdot \\nabla f(x_0)$.\n",
    "\n",
    "Donc en notant le vecteur $X = x - x_0$, on obtient $p(x) = (\\mathbf u \\vert X)$ : $p(x)$ correspond à la projection \n",
    "\"vers la droite\" de $X$ sur la tangente à la courbe en le point considéré."
   ]
  },
  {
   "cell_type": "code",
   "execution_count": 38,
   "metadata": {},
   "outputs": [],
   "source": [
    "# Utile a priori pour les tâches 4 et 7\n",
    "\n",
    "def p(f, x0, y0, x, y):\n",
    "    n = grad(f)(x0, y0)\n",
    "    d = np.sqrt(n.dot(n))\n",
    "    n = n/d\n",
    "    v = np.array([y0 - y, x - x0])\n",
    "    return n.dot(v)"
   ]
  },
  {
   "cell_type": "markdown",
   "metadata": {},
   "source": [
    "# Question 3"
   ]
  },
  {
   "cell_type": "markdown",
   "metadata": {},
   "source": [
    "On pose $F: (x, t) \\in \\mathbb R^2 \\times \\mathbb R \\mapsto (f(x) - c, p(x) - t) \\in \\mathbb R^2$.\n",
    "\n",
    "On a bien $F$ continûment dérivable car $f$ l'est et $p$ est polynômiale et $(x_0, 0)$ solution de $F(x) = 0$.\n",
    "\n",
    "De plus, si $(x, t) \\in \\mathbb R^2 \\times \\mathbb R$,\n",
    "$\\partial_x F(x, t) =\n",
    "\\begin{pmatrix}\n",
    "        \\partial_1 f(x) &\\partial_2 f(x) \\\\\n",
    "        \\frac{1}{\\vert \\vert \\nabla f(x_0)\\vert \\vert} \\partial_2 f(x_0) \n",
    "        &-\\frac{1}{\\vert \\vert \\nabla f(x_0)\\vert \\vert} \\partial_1 f(x_0)\n",
    "\\end{pmatrix}$ \n",
    "de déterminant strictement négatif en $(x_0, 0)$ donc non nul sur un voisinage de $(x_0, 0)$ par continuité.\n",
    "\n",
    "$\\partial_x F$ est donc inversible sur un voisinage de $(x_0, 0)$.\n",
    "\n",
    "Le théorème de la fonction implicite nous donne alors le résultat."
   ]
  },
  {
   "cell_type": "markdown",
   "metadata": {},
   "source": [
    "# Question 4"
   ]
  },
  {
   "cell_type": "markdown",
   "metadata": {},
   "source": [
    "D'après le théorème de la fonction implicite, on a également\n",
    "$\\gamma'(t) = d\\gamma (t) = -[\\partial_x F(\\gamma (t), t)]^{-1} \\circ \\partial_t F(\\gamma (t), t)$.\n",
    "\n",
    "Or, pour tout $(x, t) \\in \\mathbb R^2 \\times \\mathbb R$, $\\partial_t F(x, t) = (0, -1)$ donc \n",
    "$\\gamma' (t) = \\Delta(\\gamma (t)) \\times (\\partial_2 f(\\gamma (t)), -\\partial_1 f(\\gamma (t)))$\n",
    "où $\\Delta(x) = \\frac{\\partial_1 f(x) \\partial_1 f(x_0) + \\partial_2 f(x) \\partial_1 f(x_0)}\n",
    "{\\vert \\vert \\nabla f(x_0)\\vert \\vert}$.\n",
    "\n",
    "Donc, par hypothèse, pour tout $t \\in ]-\\varepsilon, +\\varepsilon[$, $\\gamma'(t) \\ne 0$.\n",
    "\n",
    "On a bien $\\gamma'(t)$ orthogonal à $\\nabla f(\\gamma(t))$."
   ]
  },
  {
   "cell_type": "markdown",
   "metadata": {},
   "source": [
    "# Question 5"
   ]
  },
  {
   "cell_type": "markdown",
   "metadata": {},
   "source": [
    "L'objectif de la fonction Newton est de construire une représentation graphique des points solutions trouvés. Elle ne demande donc pas une très grande précision.\n",
    "\n",
    "De plus, itérer la fonction Newton dans level_curve n'engendre pas un cumul des erreurs : l'approximation est à chaque étape, au pire, de l'ordre de eps. On n'a donc pas besoin d'augmenter la précision de la fonction Newton pour assurer\n",
    "le bon fonctionnement de level_curve.\n",
    "\n",
    "Prendre $\\varepsilon = 10^{-7}$ semble donc raisonnable : cela assure une précision importante et, malgré cela, une exécution assez efficace."
   ]
  },
  {
   "cell_type": "code",
   "execution_count": 39,
   "metadata": {},
   "outputs": [],
   "source": [
    "N = 100\n",
    "eps = 10**(-7)"
   ]
  },
  {
   "cell_type": "markdown",
   "metadata": {},
   "source": [
    "## Tâche 1"
   ]
  },
  {
   "cell_type": "code",
   "execution_count": 152,
   "metadata": {},
   "outputs": [],
   "source": [
    "def Newton(F, x0, y0, eps=eps, N=N):\n",
    "    J_F = J(F)\n",
    "    x, y = x0, y0\n",
    "    for i in range(N):\n",
    "        H = np.linalg.solve(J_F(x, y), F(x, y))\n",
    "        x -= H[0]\n",
    "        y -= H[1]\n",
    "        if np.sqrt(H[0]**2 + H[1]**2) <= eps:\n",
    "            return x, y\n",
    "    else:\n",
    "        raise ValueError(f\"no convergence in {N} steps.\")"
   ]
  },
  {
   "cell_type": "markdown",
   "metadata": {},
   "source": [
    "## Tâche 2"
   ]
  },
  {
   "cell_type": "code",
   "execution_count": 49,
   "metadata": {},
   "outputs": [
    {
     "name": "stdout",
     "output_type": "stream",
     "text": [
      "(0.4472135954999579, 0.4472135954999579)\n"
     ]
    },
    {
     "data": {
      "text/plain": [
       "0.8"
      ]
     },
     "execution_count": 49,
     "metadata": {},
     "output_type": "execute_result"
    }
   ],
   "source": [
    "def F(x1, x2):\n",
    "    return np.array([3.0 * x1 * x1 - 2.0 * x1 * x2 + 3.0 * x2 * x2 - .8, x2 - x1])\n",
    "\n",
    "X = Newton(F, .8, .8)\n",
    "print(X)\n",
    "f1(X[0], X[1])"
   ]
  },
  {
   "cell_type": "code",
   "execution_count": 46,
   "metadata": {},
   "outputs": [
    {
     "data": {
      "image/png": "[encoded data removed]",
      "text/plain": [
       "<Figure size 720x720 with 1 Axes>"
      ]
     },
     "metadata": {
      "needs_background": "light"
     },
     "output_type": "display_data"
    }
   ],
   "source": [
    "## Variation du point d'origine pour la courbe de niveau 0.8 de f1\n",
    "\n",
    "# Pour suivre l'exécution, on considère une version modifiée qui renvoie les étapes successives\n",
    "\n",
    "def Newton_step(F, x0, y0, eps=eps, N=N):\n",
    "    J_F = J(F)\n",
    "    res_X, res_Y = [x0], [y0]\n",
    "    for i in range(N):\n",
    "        x, y = res_X[-1], res_Y[-1]\n",
    "        H = np.linalg.solve(J_F(x, y), -F(x, y))\n",
    "        x += H[0]\n",
    "        y += H[1]\n",
    "        res_X.append(x)\n",
    "        res_Y.append(y)\n",
    "        if np.sqrt(H[0]**2 + H[1]**2) <= eps:\n",
    "            return np.array(res_X), np.array(res_Y)\n",
    "    else:\n",
    "        raise ValueError(f\"no convergence in {N} steps.\")\n",
    "        \n",
    "# On affiche les courbes de niveau 0.8 de f1 et la première bissectrice\n",
    "\n",
    "t = np.linspace(-2, 2, 400)\n",
    "\n",
    "plt.plot(t, t, label = \"Première bissectrice\", color = 'gainsboro');\n",
    "display_contour(f1, t, t, [.8])\n",
    "\n",
    "plt.title('Convergence de la fonction Newton')\n",
    "plt.xlim(-2, 2)\n",
    "plt.ylim(-2, 2)\n",
    "plt.legend()\n",
    "        \n",
    "# On va observer le comportement de Newton pour 4 points alétoires de [-1, 1] x [-1, 1]\n",
    "\n",
    "n = 4\n",
    "\n",
    "sol = np.empty((n, 2))\n",
    "\n",
    "for i in range(n):\n",
    "    x0, y0 = 2*random.random() - 1, 2*random.random() - 1\n",
    "    X, Y = Newton_step(F, x0, y0)\n",
    "    plt.plot(X, Y, '--');\n",
    "    sol[i, :] = X[-1], Y[-1]\n",
    "\n",
    "plt.scatter(sol[:, 0], sol[:, 1]); # ce sont les points solutions obtenus"
   ]
  },
  {
   "cell_type": "code",
   "execution_count": 45,
   "metadata": {},
   "outputs": [
    {
     "data": {
      "image/png": "[encoded data removed]",
      "text/plain": [
       "<Figure size 720x720 with 2 Axes>"
      ]
     },
     "metadata": {
      "needs_background": "light"
     },
     "output_type": "display_data"
    }
   ],
   "source": [
    "## On fait varier la contrainte\n",
    "\n",
    "# On fait la même chose que précédemment mais avec les contraintes x2 = x1**2 et x2 = x1**3\n",
    "\n",
    "def F_contrainteCarree(x1, x2):\n",
    "    return np.array([3.0 * x1 * x1 - 2.0 * x1 * x2 + 3.0 * x2 * x2 - .8, x2 - x1**2])\n",
    "\n",
    "def F_contrainteCube(x1, x2):\n",
    "    return np.array([3.0 * x1 * x1 - 2.0 * x1 * x2 + 3.0 * x2 * x2 - .8, x2 - x1**3])\n",
    "\n",
    "# On affiche les courbes associées à la contrainte considérée\n",
    "\n",
    "fig, ax = plt.subplots(1, 2)\n",
    "\n",
    "t = np.linspace(-1, 1, 200)\n",
    "\n",
    "ax[0].plot(t, t**2, label = \"Fonction carrée\", color = 'gainsboro');\n",
    "ax[1].plot(t, t**3, label = \"Fonction cube\", color = 'gainsboro');\n",
    "        \n",
    "# On va observer le comportement de Newton pour un point alétoire de [-1, 1] x [-1, 1]\n",
    "\n",
    "x0, y0 = 2*random.random() - 1, 2*random.random() - 1\n",
    "Xc, Yc = Newton_step(F_contrainteCarree, x0, y0)\n",
    "Xk, Yk = Newton_step(F_contrainteCube, x0, y0)\n",
    "ax[0].plot(Xc, Yc, '--');\n",
    "ax[0].scatter(Xc[-1], Yc[-1]);\n",
    "ax[1].plot(Xk, Yk, '--');\n",
    "ax[1].scatter(Xk[-1], Yk[-1]);"
   ]
  },
  {
   "cell_type": "code",
   "execution_count": 16,
   "metadata": {},
   "outputs": [
    {
     "name": "stdout",
     "output_type": "stream",
     "text": [
      "(3.8760915758361993, 3.8760915758361993)\n"
     ]
    },
    {
     "data": {
      "text/plain": [
       "0.8000000000000008"
      ]
     },
     "execution_count": 16,
     "metadata": {},
     "output_type": "execute_result"
    }
   ],
   "source": [
    "## On fait varier la fonction étudiée : nous allons faire un test similaire avec f3\n",
    "## On prend la contrainte x1 = x2 et la courbe de niveau 0.8 en partant du point (0.1, 0.1)\n",
    "\n",
    "def F3(x, y):\n",
    "    return np.array([np.sin(x + y) - np.cos(x * y) - 1 + 0.001 * (x * x + y * y) - .8, y - x])\n",
    "\n",
    "X = Newton(F3, .1, .1)\n",
    "print(X)\n",
    "f3(X[0], X[1])"
   ]
  },
  {
   "cell_type": "markdown",
   "metadata": {},
   "source": [
    "# Question 6"
   ]
  },
  {
   "cell_type": "markdown",
   "metadata": {},
   "source": [
    "## Tâche 3"
   ]
  },
  {
   "cell_type": "markdown",
   "metadata": {},
   "source": [
    " On itère sur la fonction Newton en prenant comme contrainte supplémentaire\n",
    " $p(x, y) = \\delta$ avec la même défintion de la fonction $p$ qu'à la question 2.\n",
    " On utilise donc le résultat prouvé à la question 3."
   ]
  },
  {
   "cell_type": "code",
   "execution_count": 153,
   "metadata": {},
   "outputs": [],
   "source": [
    "def level_curve(f, x0, y0, delta=0.1, N=1000, eps=eps):\n",
    "    xp, yp = x0, y0\n",
    "    res = np.empty((2, N))\n",
    "    res[:, 0] = x0, y0\n",
    "    for i in range(1, N):\n",
    "        def F(x, y):\n",
    "            return np.array([f(x, y) -  c, p(f, xp, yp, x, y) - delta])\n",
    "        cp = Newton(F, xp, yp, eps=eps)\n",
    "        res[:, i] = cp\n",
    "        xp, yp = cp\n",
    "    return res"
   ]
  },
  {
   "cell_type": "markdown",
   "metadata": {},
   "source": [
    "On ne réalise pas de test ici car pour les exemples que nous avons traités,\n",
    "la fonction repasse un grand nombre de fois par le même endroit et est assez lente (parfois plusieurs dizaines pour\n",
    "$N = 1000$). D'où la nécessité de la tâche 4."
   ]
  },
  {
   "cell_type": "markdown",
   "metadata": {},
   "source": [
    "# Question 7"
   ]
  },
  {
   "cell_type": "markdown",
   "metadata": {},
   "source": [
    "## Tâche 4"
   ]
  },
  {
   "cell_type": "markdown",
   "metadata": {},
   "source": [
    "Le principal risque est que la fonction traite plusieurs fois une même portion de courbe si elle a fait\n",
    "\"un tour\". Dans ce cas, dans des conditions non pathologiques, réaliser le test seulement entre le premier\n",
    "et le dernier segment suffit. \n",
    "\n",
    "Cependant, le programme pourrait faire non pas un tour mais une boucle si la fonction prise en argument est\n",
    "auto-intersectant. On pourrait dans ce cas faire le test entre le dernier segment et tous ceux qui le précédent.\n",
    "Avec un test d'intersection entre deux segements en $O(1)$, cela donnerait une complexité totale quadratique \n",
    "par rapport au paramètre $N$ dans le pire cas.\n",
    "\n",
    "Nous avons choisi de ne pas le faire car, au niveau d'une auto-intersection, l'algorithme a potentiellement deux branches à explorer dont une ne l'a peut-être pas encore été. Il est impossible de prévoir a priori le comportement de l'algorithme mais arrêter le programme à ce moment, c'est se priver quoi qu'il arrive d'une exploration d'une \"branche\" non encore explorée.\n",
    "\n",
    "Autrement dit, il faut tester avec le premier segment seulement car sinon des problèmes peuvent apparaître (courbe inachevée) comme dans le cas de la fonction de Rosenbrock.\n",
    "\n",
    "De plus, dans le cas où la fonction fait \"un tour\", faire le test entre le premier et le dernier segment produit\n",
    "est suffisant."
   ]
  },
  {
   "cell_type": "code",
   "execution_count": 123,
   "metadata": {},
   "outputs": [],
   "source": [
    "def det(A, B, C):\n",
    "    v1, v2 = B - A, C - A\n",
    "    return v1[0]*v2[1] - v1[1]*v2[0]"
   ]
  },
  {
   "cell_type": "markdown",
   "metadata": {},
   "source": [
    "La fonction det renvoie $\\det (\\vec{AB}, \\vec{AC})$."
   ]
  },
  {
   "cell_type": "code",
   "execution_count": 124,
   "metadata": {},
   "outputs": [],
   "source": [
    "def in_seg(A, B, C):\n",
    "    e = 10**(-8) # pour prendre en compte les erreurs d'arrondi liées aux doubles\n",
    "    v1, v2 = B - A, C - A\n",
    "    return np.abs(det(A, B, C)) <= e and v1[0]*v2[0] - v1[1]*v2[1] <= 0"
   ]
  },
  {
   "cell_type": "markdown",
   "metadata": {},
   "source": [
    "La fonction in_seg renvoie true si et seulement si $A \\in [B, C]$."
   ]
  },
  {
   "cell_type": "code",
   "execution_count": 125,
   "metadata": {},
   "outputs": [],
   "source": [
    "def intersection(A, B, C, D):\n",
    "    e = 10**(-8)\n",
    "    alignement = in_seg(A, C, D) or in_seg(B, C, D) or in_seg(C, A, B) or in_seg(D, A, B)\n",
    "    c1, c2 = det(A, B, D), det(A, B, C)\n",
    "    d1, d2 = det(D, C, A), det(D, C, B)\n",
    "    return (c1*c2 < 0 and d1*d2 < 0) or alignement"
   ]
  },
  {
   "cell_type": "markdown",
   "metadata": {},
   "source": [
    "La fonction intersection renvoie true si et seulement si les segements $[A, B]$ et $[C, D]$ s'intersectent.\n",
    "\n",
    "La variable alignement anticipe les cas \"pathologiques\" où les segments s'intersectent en un des quatre points considérés. Pour les autres cas, on utilise l'équivalence suivante:\n",
    "\n",
    "$[A, B] \\cap [C, D] \\neq \\emptyset \\iff [A, B] \\cap (C, D) \\neq \\emptyset$ et $(A, B) \\cap [C, D] \\neq \\emptyset$\n",
    "\n",
    "En effet, on utilise le fait que si $\\theta$ est l'angle orienté entre $u$ et $v$ alors\n",
    "$\\det(u, v) = \\vert \\vert u \\vert \\vert \\vert \\vert v \\vert \\vert \\sin \\theta$.\n",
    "\n",
    "Or, la droite $(C, D)$ intersecte $] A, B [$ (le cas des extrêmités est traité dans alignement) si et seulement si les angles $(\\vec{CD}, \\vec{CA})$ et $(\\vec{CD}, \\vec{CB})$ ont des orientations strictement opposés donc si et seulement si $\\det(\\vec{CD}, \\vec{CA}) \\det(\\vec{CD}, \\vec{CB}) < 0$."
   ]
  },
  {
   "cell_type": "code",
   "execution_count": 179,
   "metadata": {},
   "outputs": [],
   "source": [
    "def level_curve_finie(f, x0, y0, delta = 0.1, N = 1000, eps = eps):\n",
    "    xp, yp = x0, y0\n",
    "    res = np.empty((2, N))\n",
    "    res[:, 0] = x0, y0\n",
    "    for i in range(1, N):\n",
    "        def F(x, y):\n",
    "            return np.array([f(x, y) - c, p(f, xp, yp, x, y) - delta])\n",
    "        cp = Newton(F, xp, yp, eps=eps)\n",
    "        res[:, i] = cp\n",
    "        xp, yp = cp\n",
    "        if i > 2 and intersection(res[:, 0], res[:, 1], res[:, i - 1], res[:, i]):\n",
    "            #print(f'{i} étapes nécessaires')\n",
    "            return res[:, :i + 1:] # on ne renvoie que les points significatifs\n",
    "    return res"
   ]
  },
  {
   "cell_type": "markdown",
   "metadata": {},
   "source": [
    "On prend $i > 2$ car les deux premiers segments partagent dans tous les cas un point en commun et on ne veut pas que le programme s'arrête à la deuxième étape."
   ]
  },
  {
   "cell_type": "markdown",
   "metadata": {},
   "source": [
    "## Tâche 5"
   ]
  },
  {
   "cell_type": "code",
   "execution_count": 180,
   "metadata": {},
   "outputs": [
    {
     "data": {
      "image/png": "[encoded data removed]",
      "text/plain": [
       "<Figure size 720x720 with 1 Axes>"
      ]
     },
     "metadata": {
      "needs_background": "light"
     },
     "output_type": "display_data"
    }
   ],
   "source": [
    "## On regarde pour la courbe de niveau 1.0 de la fonction f2\n",
    "\n",
    "c = 1.\n",
    "T = level_curve_finie(f2, 1., 0.)\n",
    "\n",
    "plt.plot(T[0, :], T[1, :]);"
   ]
  },
  {
   "cell_type": "markdown",
   "metadata": {},
   "source": [
    "# Question 8"
   ]
  },
  {
   "cell_type": "markdown",
   "metadata": {},
   "source": [
    "Il faut :\n",
    "\n",
    "$\\begin{pmatrix} a \\\\ d \\end{pmatrix} = \\mathbf P_1$,\n",
    "$\\begin{pmatrix} a + b + c \\\\ d + e + f \\end{pmatrix} = \\mathbf P_2$,\n",
    "$\\begin{pmatrix} b \\\\ e \\end{pmatrix} = \\alpha \\mathbf u_1$ et\n",
    "$\\begin{pmatrix} b + c \\\\ e + f \\end{pmatrix} = \\beta \\mathbf u_2$\n",
    "pour $a, b, c, d, e, f, g \\in \\mathbb R$ et $\\alpha, \\beta \\in \\mathbb R_+^*$.\n",
    "\n"
   ]
  },
  {
   "cell_type": "markdown",
   "metadata": {},
   "source": [
    "Si une solution existe, $a$ et $d$ sont immédiatement déterminés.\n",
    "Ce problème admet alors une solution si et seulement si les vecteurs $\\mathbf P_2 - \\mathbf P_1$\n",
    "et $\\mathbf u_2$ sont strictement postivement liés.\n",
    "\n",
    "En effet, si ce n'est pas le cas, il est clair que le problème n'admet pas de solution.\n",
    "\n",
    "Réciproquement, si c'est la cas, on est ramené à la résolution d'un système linéaire de 5 inconnues \n",
    "à quatre équations. Ce système admet une solution, on peut même imposer $\\alpha = 1$."
   ]
  },
  {
   "cell_type": "markdown",
   "metadata": {},
   "source": [
    "## Tâche 6"
   ]
  },
  {
   "cell_type": "code",
   "execution_count": null,
   "metadata": {},
   "outputs": [],
   "source": [
    "def positivement_lies(v1, v2):\n",
    "    e = 10**(-8) # pour prendre en compte les erreurs d'arrondi liés aux doubles\n",
    "    d = v1[0]*v2[1] - v1[1]*v2[0]\n",
    "    return np.abs(d) < e and (v1[0]*v2[0] + v1[1]*v2[1] > 0) "
   ]
  },
  {
   "cell_type": "code",
   "execution_count": 17,
   "metadata": {},
   "outputs": [],
   "source": [
    "def gamma(t, P1, P2, u1, u2):\n",
    "    if positivement_lies(P2 - P1, u2): # si le système admet une solution\n",
    "        a, d = P1\n",
    "        b, e = u1\n",
    "        c, f = P2 - P1 - u1 # en prenant alpha = 1 avec les notations précédentes\n",
    "        return np.array([a + b*t + c*t*t, d + e*t + f*t*t])\n",
    "    P1.resize((2, 1)) # si le système n'en admet pas\n",
    "    P2.resize((2, 1))\n",
    "    t.resize((1, len(t)))\n",
    "    return P1 + (P2 - P1).dot(t)"
   ]
  },
  {
   "cell_type": "code",
   "execution_count": 18,
   "metadata": {},
   "outputs": [
    {
     "data": {
      "text/plain": [
       "array([[ 0.        , -0.08641975, -0.12345679, -0.11111111, -0.04938272,\n",
       "         0.0617284 ,  0.22222222,  0.43209877,  0.69135802,  1.        ],\n",
       "       [ 0.        ,  0.01234568,  0.04938272,  0.11111111,  0.19753086,\n",
       "         0.30864198,  0.44444444,  0.60493827,  0.79012346,  1.        ]])"
      ]
     },
     "execution_count": 18,
     "metadata": {},
     "output_type": "execute_result"
    }
   ],
   "source": [
    "# Test\n",
    "\n",
    "P1 = np.array([0., 0.])\n",
    "P2 = np.array([1., 1.])\n",
    "u1 = np.array([-1., 0])\n",
    "u2 = np.array([1., 0.])\n",
    "v2 = np.array([1., 1.])\n",
    "\n",
    "t = np.linspace(0, 1, 10)\n",
    "gamma(t, P1, P2, u1, v2)"
   ]
  },
  {
   "cell_type": "markdown",
   "metadata": {},
   "source": [
    "## Tâche 7"
   ]
  },
  {
   "cell_type": "markdown",
   "metadata": {},
   "source": [
    "On parabolise entre deux points en prenant les dérivées de la fonction étudiée\n",
    "en $P_1$ et $P_2$ pour $u_1$ et $u_2$. On note $N = oversampling$. On répartit les $N - 1$ points sur la parabole obtenue en prenant $t_n = \\frac{n}{N}$ pour $n$ variant entre $1$ et $N - 1$. C'est-à-dire qu'on prend les\n",
    "$\\gamma (t_n)$."
   ]
  },
  {
   "cell_type": "code",
   "execution_count": 147,
   "metadata": {},
   "outputs": [],
   "source": [
    "## Version en cours\n",
    "\n",
    "def level_curve_interpole(f, x0, y0, delta = 0.1, N = 1000, eps = eps, overslamping = 1) :\n",
    "    t = np.arange(1, oversampling - 1)/oversampling\n",
    "    xp, yp = x0, y0\n",
    "    res = np.empty((2, (N - 1)*(overslamping - 1) + N))\n",
    "    res[:, 0] = x0, y0\n",
    "    R = np.array([[0, 1], [-1, 0]])\n",
    "    for i in range(1, N):\n",
    "        def F(x, y):\n",
    "            return np.array([f(x, y) - c, p(f, xp, yp, x, y) - delta])\n",
    "        cp = Newton(F, xp, yp, eps=eps)\n",
    "        \n",
    "        for j in range(0, overslamping):\n",
    "            g_f = grad(f)\n",
    "            u = g_f(res[0, i - 1], res[1, i - 1])\n",
    "            v = g_f(cp[0], cp[1])\n",
    "            res[:i + j] = gamma(t, res[:,i*overslamping], cp, grad(f)(res[:,i]), grad(f)(cp))\n",
    "            # à compléter\n",
    "            \n",
    "        res[:, i*(overslamping + 1)] = cp                                                       \n",
    "        xp, yp = cp                                                                           \n",
    "        if i > 2 and intersection(res[:, 0], res[:, 1], res[:, -2], res[:, -1]):\n",
    "            # problème dans l'indice là\n",
    "            return res[:, :i + 1:] # on ne renvoie que les points significatifs\n",
    "    return res\n",
    "\n",
    "## Autre version\n",
    "\n",
    "def level_courbe_finie2(f, x0, y0, delta = 0.1, N = 1000, eps = eps, overslamping : int) :\n",
    "    t = np.linspace(1/overslamping, 1-1/overslamping, overslamping-1) # np.arange ?\n",
    "    xp, yp = x0, y0\n",
    "    C = global c\n",
    "    res = np.empty((2, (N-1)*(overslamping-1)+N))\n",
    "    res[:, 0] = x0, y0\n",
    "    A = np.array([[0, 1], [-1, 0]])\n",
    "    for i in range(1, N):\n",
    "        def F(x, y):\n",
    "            return (f(x, y) - C, np.sqrt((x - xp)**2 + (y - yp)**2) - delta)\n",
    "        cp = Newton(F, xp, yp, eps=eps)\n",
    "        \n",
    "        for j in range(1, overslamping) :\n",
    "            u1 = (1/np.linalg.norm(grad(f)(res[:,i])))*A@grad(f)(res[:,i]) # u1 et u2 sont les correspondent au vecteur de la question 2.\n",
    "            u2 = (1/np.linalg.norm(grad(f)(cp)))*A@grad(f)(cp)\n",
    "            res[:i + j] = gamma(t, res[:,i*overslamping], cp, u1, u2)  \n",
    "            \n",
    "        res[:, i*(overslamping+1)] = cp                                                        \n",
    "        xp, yp = cp                                                                          \n",
    "        seg = plt.plot(res[ : i-1], res[ : i])                                                 \n",
    "        for x in seg :                                                                 \n",
    "            if x in plt.plot(res[ : 0], res[ : 1]) :\n",
    "                return res\n",
    "    return res"
   ]
  },
  {
   "cell_type": "markdown",
   "metadata": {},
   "source": [
    "## Tâche 8"
   ]
  },
  {
   "cell_type": "code",
   "execution_count": null,
   "metadata": {},
   "outputs": [],
   "source": []
  }
 ],
 "metadata": {
  "kernelspec": {
   "display_name": "Python 3",
   "language": "python",
   "name": "python3"
  },
  "language_info": {
   "codemirror_mode": {
    "name": "ipython",
    "version": 3
   },
   "file_extension": ".py",
   "mimetype": "text/x-python",
   "name": "python",
   "nbconvert_exporter": "python",
   "pygments_lexer": "ipython3",
   "version": "3.8.3"
  }
 },
 "nbformat": 4,
 "nbformat_minor": 4
}
