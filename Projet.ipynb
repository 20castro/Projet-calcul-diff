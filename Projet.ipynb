{
 "cells": [
  {
   "cell_type": "markdown",
   "metadata": {},
   "source": [
    "# Projet numérique - Calcul différentiel\n",
    "Antoine Rousseau et David Castro"
   ]
  },
  {
   "cell_type": "code",
   "execution_count": 4,
   "metadata": {},
   "outputs": [],
   "source": [
    "import autograd\n",
    "import autograd.numpy as np\n",
    "\n",
    "import pandas as pd\n",
    "\n",
    "import matplotlib as mpl\n",
    "import matplotlib.pyplot as plt\n",
    "plt.rcParams['figure.figsize'] = [10, 10] # [width, height] (inches). \n",
    "\n",
    "from IPython.display import display"
   ]
  },
  {
   "cell_type": "code",
   "execution_count": 5,
   "metadata": {},
   "outputs": [],
   "source": [
    "def grad(f):\n",
    "    g = autograd.grad\n",
    "    def grad_f(x, y):\n",
    "        return np.array([g(f, 0)(x, y), g(f, 1)(x, y)])\n",
    "    return grad_f"
   ]
  },
  {
   "cell_type": "code",
   "execution_count": 6,
   "metadata": {},
   "outputs": [],
   "source": [
    "def J(f):\n",
    "    j = autograd.jacobian\n",
    "    def J_f(x, y):\n",
    "        return np.array([j(f, 0)(x, y), j(f, 1)(x, y)]).T\n",
    "    return J_f"
   ]
  },
  {
   "cell_type": "code",
   "execution_count": 7,
   "metadata": {},
   "outputs": [],
   "source": [
    "def display_contour(f, x, y, levels):\n",
    "    X, Y = np.meshgrid(x, y)\n",
    "    Z = f(X, Y)\n",
    "    fig, ax = plt.subplots()\n",
    "    contour_set = plt.contour(\n",
    "        X, Y, Z, colors=\"grey\", linestyles=\"dashed\", \n",
    "        levels=levels \n",
    "    )\n",
    "    ax.clabel(contour_set)\n",
    "    plt.grid(True)\n",
    "    plt.xlabel(\"$x_1$\") \n",
    "    plt.ylabel(\"$x_2$\")\n",
    "    plt.gca().set_aspect(\"equal\")"
   ]
  },
  {
   "cell_type": "markdown",
   "metadata": {},
   "source": [
    "# Question 1"
   ]
  },
  {
   "cell_type": "markdown",
   "metadata": {},
   "source": [
    "La courbe de niveau $c$ de $f$ est bornée car, par hypothèse, il existe $A \\in \\mathbb R$ tel que :\n",
    "$\\forall x \\in \\mathbb R^2, \\vert \\vert x \\vert \\vert \\geqslant A \\implies f(x) \\geqslant c + 1$.\n",
    "Elle est donc incluse dans $\\mathcal B (0, A)$.\n",
    "\n",
    "C'est également un fermé car $\\{c\\}$ est un fermé de $\\mathbb R$ donc, par\n",
    "continuité de $f$, $f^{-1}(\\{c\\})$ est fermé dans $\\mathbb R^2$. \n",
    "\n",
    "Comme on est en dimension finie, la courbe de niveau $c$ de $f$ est donc un compact de $\\mathbb R^2$."
   ]
  },
  {
   "cell_type": "markdown",
   "metadata": {},
   "source": [
    "# Question 2"
   ]
  },
  {
   "cell_type": "markdown",
   "metadata": {},
   "source": [
    "$ \\vec u =\\frac{1}{\\vert \\vert \\nabla f(x_0)\\vert \\vert}(\\partial_2 f(x_0), -\\partial_1 f(x_0))$\n",
    "est le vecteur normé tangent à la courbe de niveau en $x_0$."
   ]
  },
  {
   "cell_type": "markdown",
   "metadata": {},
   "source": [
    "# Question 3"
   ]
  },
  {
   "cell_type": "markdown",
   "metadata": {},
   "source": [
    "On pose $F: (x, t) \\in \\mathbb R^2 \\times \\mathbb R \\mapsto (f(x) - c, p(x) - t) \\in \\mathbb R^2$.\n",
    "\n",
    "On a bien $F$ continûment dérivable car $f$ l'est et $p$ est polynômiale et $(x_0, 0)$ solution de $F(x) = 0$.\n",
    "\n",
    "De plus, si $(x, t) \\in \\mathbb R^2 \\times \\mathbb R$,\n",
    "$\\partial_x F(x, t) =\n",
    "\\begin{pmatrix}\n",
    "        \\partial_1 f(x) &\\partial_2 f(x) \\\\\n",
    "        \\frac{1}{\\vert \\vert \\nabla f(x_0)\\vert \\vert} \\partial_2 f(x_0) \n",
    "        &-\\frac{1}{\\vert \\vert \\nabla f(x_0)\\vert \\vert} \\partial_1 f(x_0)\n",
    "\\end{pmatrix}$ \n",
    "de déterminant strictement négatif en $(x_0, 0)$ donc non nul sur un voisinage de $(x_0, 0)$ par continuité.\n",
    "\n",
    "$\\partial_x F$ est donc inversible sur un voisinage de $(x_0, 0)$.\n",
    "\n",
    "Le théorème de la fonction implicite nous donne alors le résultat."
   ]
  },
  {
   "cell_type": "markdown",
   "metadata": {},
   "source": [
    "# Question 4"
   ]
  },
  {
   "cell_type": "markdown",
   "metadata": {},
   "source": [
    "D'après le théorème de la fonction implicite, on a également\n",
    "$\\gamma'(t) = d\\gamma (t) = -[\\partial_x F(\\gamma (t), t)]^{-1} \\circ \\partial_t F(\\gamma (t), t)$.\n",
    "\n",
    "Or, pour tout $(x, t) \\in \\mathbb R^2 \\times \\mathbb R$, $\\partial_t F(x, t) = (0, -1)$ donc \n",
    "$\\gamma' (t) = \\Delta(\\gamma (t)) \\times (\\partial_2 f(\\gamma (t)), -\\partial_1 f(\\gamma (t)))$\n",
    "où $\\Delta(x) = \\frac{\\partial_1 f(x) \\partial_1 f(x_0) + \\partial_2 f(x) \\partial_1 f(x_0)}\n",
    "{\\vert \\vert \\nabla f(x_0)\\vert \\vert}$.\n",
    "\n",
    "Donc, par hypothèse, pour tout $t \\in ]-\\varepsilon, +\\varepsilon[$, $\\gamma'(t) \\ne 0$.\n",
    "\n",
    "On a bien $\\gamma'(t)$ orthogonal à $\\nabla f(\\gamma(t))$."
   ]
  },
  {
   "cell_type": "markdown",
   "metadata": {},
   "source": [
    "# Question 5"
   ]
  },
  {
   "cell_type": "raw",
   "metadata": {},
   "source": [
    "#"
   ]
  },
  {
   "cell_type": "code",
   "execution_count": 8,
   "metadata": {},
   "outputs": [],
   "source": [
    "N = 100\n",
    "eps = 10**(-8)"
   ]
  },
  {
   "cell_type": "markdown",
   "metadata": {},
   "source": [
    "## Tâche 1"
   ]
  },
  {
   "cell_type": "code",
   "execution_count": 9,
   "metadata": {},
   "outputs": [],
   "source": [
    "def Newton(F, x0, y0, eps=eps, N=N):\n",
    "    J_F = J(F)\n",
    "    x, y = x0, y0\n",
    "    for i in range(N):\n",
    "        H = np.linalg.solve(J_F(x, y), -F(x, y))\n",
    "        x += H[0]\n",
    "        y += H[1]\n",
    "        if np.sqrt((x - x0)**2 + (y - y0)**2) <= eps:\n",
    "            return x, y\n",
    "        x0, y0 = x, y\n",
    "    else:\n",
    "        raise ValueError(f\"no convergence in {N} steps.\")"
   ]
  },
  {
   "cell_type": "code",
   "execution_count": 10,
   "metadata": {},
   "outputs": [],
   "source": [
    "def F(x1, x2):\n",
    "    return np.array([3.0 * x1 * x1 - 2.0 * x1 * x2 + 3.0 * x2 * x2 - .8, x2 - x1])"
   ]
  },
  {
   "cell_type": "markdown",
   "metadata": {},
   "source": [
    "## Tâche 2"
   ]
  },
  {
   "cell_type": "code",
   "execution_count": 11,
   "metadata": {},
   "outputs": [
    {
     "data": {
      "text/plain": [
       "(0.4472135954999579, 0.4472135954999579)"
      ]
     },
     "execution_count": 11,
     "metadata": {},
     "output_type": "execute_result"
    }
   ],
   "source": [
    "Newton(F, .8, .8)"
   ]
  },
  {
   "cell_type": "markdown",
   "metadata": {},
   "source": [
    "# Question 6"
   ]
  },
  {
   "cell_type": "markdown",
   "metadata": {},
   "source": [
    "## Tâche 3"
   ]
  },
  {
   "cell_type": "raw",
   "metadata": {},
   "source": [
    " "
   ]
  },
  {
   "cell_type": "code",
   "execution_count": 12,
   "metadata": {},
   "outputs": [
    {
     "ename": "SyntaxError",
     "evalue": "invalid syntax (<ipython-input-12-d36a5d6edc56>, line 7)",
     "output_type": "error",
     "traceback": [
      "\u001b[0;36m  File \u001b[0;32m\"<ipython-input-12-d36a5d6edc56>\"\u001b[0;36m, line \u001b[0;32m7\u001b[0m\n\u001b[0;31m    return (f(x, y) -  global c, np.sqrt((x - xp)**2 + (y - yp)**2) - delta)\u001b[0m\n\u001b[0m                       ^\u001b[0m\n\u001b[0;31mSyntaxError\u001b[0m\u001b[0;31m:\u001b[0m invalid syntax\n"
     ]
    }
   ],
   "source": [
    "def level_curve(f, x0, y0, delta=0.1, N=1000, eps=eps):\n",
    "    xp, yp = x0, y0\n",
    "    res = np.empty((2, N))\n",
    "    res[:, 0] = x0, y0\n",
    "    for i in range(1, N):\n",
    "        def F(x, y):\n",
    "            return (f(x, y) -  global c, np.sqrt((x - xp)**2 + (y - yp)**2) - delta)\n",
    "        cp = Newton(F, xp, yp, eps=eps)\n",
    "        res[:, i] = cp\n",
    "        xp, yp = cp\n",
    "    return res\n",
    "\n",
    "# définir c\n",
    "# on a pas le fait qu'il faut aller à gauche"
   ]
  },
  {
   "cell_type": "markdown",
   "metadata": {},
   "source": [
    "# Question 7"
   ]
  },
  {
   "cell_type": "code",
   "execution_count": 13,
   "metadata": {},
   "outputs": [],
   "source": [
    "# Utiles pour les questions 7 et 8\n",
    "\n",
    "def positivement_lies(v1, v2):\n",
    "    e = 10**(-8) # pour prendre en compte les erreurs d'arrondi liés aux doubles\n",
    "    d = v1[0]*v2[1] - v1[1]*v2[0]\n",
    "    return np.abs(d) < e and (v1[0]*v2[0] > 0 or v1[1]*v2[1] > 0)    "
   ]
  },
  {
   "cell_type": "markdown",
   "metadata": {},
   "source": [
    "## Tâche 4"
   ]
  },
  {
   "cell_type": "markdown",
   "metadata": {},
   "source": [
    "Il faut tester avec le premier segment seulement car sinon des problèmes peuvent apparaître (courbe inachevée) comme dans le cas de la fonction de Rosenbrock."
   ]
  },
  {
   "cell_type": "code",
   "execution_count": 14,
   "metadata": {},
   "outputs": [],
   "source": [
    "def det(A, B, C):\n",
    "    v1, v2 = B - A, C - A\n",
    "    return v1[0]*v2[1] - v1[1]*v2[0]"
   ]
  },
  {
   "cell_type": "markdown",
   "metadata": {},
   "source": [
    "La fonction det renvoie $\\det (\\vec{AB}, \\vec{AC})$."
   ]
  },
  {
   "cell_type": "code",
   "execution_count": 26,
   "metadata": {},
   "outputs": [
    {
     "data": {
      "text/plain": [
       "False"
      ]
     },
     "execution_count": 26,
     "metadata": {},
     "output_type": "execute_result"
    }
   ],
   "source": [
    "# je ne suis pas sûr que ça marche comme il faut\n",
    "\n",
    "def alignement(A, B, C):\n",
    "    # on prend aussi en compte le cas où A est même confondu avec un autre point\n",
    "    return positivement_lies(B - A, C - A) or np.allclose(A, B) or np.allclose(A, C)\n",
    "\n",
    "def intersection(A, B, C, D):\n",
    "    e = 10**(-8)\n",
    "    c1, c2 = det(A, B, D), det(A, B, C)\n",
    "    d1, d2 = det(D, C, A), det(D, C, B)\n",
    "    alignes = alignement(A, C, D) or alignement(B, C, D) or alignement(C, A, B) or alignement(D, A, B)\n",
    "    return (c1*c2 < 0 and d1*d2 < 0) or alignes\n",
    "\n",
    "A = np.array([0., 1.])\n",
    "B = np.array([2.1, 1.])\n",
    "C = np.array([1., 2.])\n",
    "D = np.array([1., 0.])\n",
    "E = np.array([2., 0.])\n",
    "\n",
    "intersection(A, D, C, B)"
   ]
  },
  {
   "cell_type": "markdown",
   "metadata": {},
   "source": [
    "La fonction alignement renvoie true si et seulement si $A \\in [B, C]$.\n",
    "\n",
    "La fonction intersection renvoie true si et seulement si les segements $[A, B]$ et $[C, D]$ s'intersectent.\n",
    "En effet, ..."
   ]
  },
  {
   "cell_type": "code",
   "execution_count": 1,
   "metadata": {},
   "outputs": [
    {
     "output_type": "error",
     "ename": "SyntaxError",
     "evalue": "invalid syntax (<ipython-input-1-dbfa122f59dc>, line 3)",
     "traceback": [
      "\u001b[0;36m  File \u001b[0;32m\"<ipython-input-1-dbfa122f59dc>\"\u001b[0;36m, line \u001b[0;32m3\u001b[0m\n\u001b[0;31m    C = global c\u001b[0m\n\u001b[0m        ^\u001b[0m\n\u001b[0;31mSyntaxError\u001b[0m\u001b[0;31m:\u001b[0m invalid syntax\n"
     ]
    }
   ],
   "source": [
    "def level_courbe_finie(f, x0, y0, delta = 0.1, N = 1000, eps = eps) :\n",
    "    xp, yp = x0, y0\n",
    "    C = global c\n",
    "    res = np.empty((2, N))\n",
    "    res[:, 0] = x0, y0\n",
    "    for i in range(1, N):\n",
    "        def F(x, y):\n",
    "            return (f(x, y) - C, np.sqrt((x - xp)**2 + (y - yp)**2) - delta)\n",
    "        cp = Newton(F, xp, yp, eps=eps)\n",
    "        res[:, i] = cp\n",
    "        xp, yp = cp\n",
    "        seg = plt.plot(res[ : i-1], res[ : i])\n",
    "        for x in seg :\n",
    "            if x in plt.plot(res[ : 0], res[ : 1]) :\n",
    "                return res\n",
    "    return res"
   ]
  },
  {
   "cell_type": "code",
   "execution_count": null,
   "metadata": {},
   "outputs": [],
   "source": []
  },
  {
   "cell_type": "markdown",
   "metadata": {},
   "source": [
    "## Tâche 5"
   ]
  },
  {
   "cell_type": "code",
   "execution_count": null,
   "metadata": {},
   "outputs": [],
   "source": []
  },
  {
   "cell_type": "markdown",
   "metadata": {},
   "source": [
    "# Question 8"
   ]
  },
  {
   "cell_type": "markdown",
   "metadata": {},
   "source": [
    "Il faut :\n",
    "\n",
    "$\\begin{pmatrix} a \\\\ d \\end{pmatrix} = \\mathbf P_1$,\n",
    "$\\begin{pmatrix} a + b + c \\\\ d + e + f \\end{pmatrix} = \\mathbf P_2$,\n",
    "$\\begin{pmatrix} b \\\\ e \\end{pmatrix} = \\alpha \\mathbf u_1$ et\n",
    "$\\begin{pmatrix} b + c \\\\ e + f \\end{pmatrix} = \\beta \\mathbf u_2$\n",
    "pour $a, b, c, d, e, f, g \\in \\mathbb R$ et $\\alpha, \\beta \\in \\mathbb R_+^*$.\n",
    "\n"
   ]
  },
  {
   "cell_type": "markdown",
   "metadata": {},
   "source": [
    "Si une solution existe, $a$ et $d$ sont immédiatement déterminés.\n",
    "Ce problème admet alors une solution si et seulement si les vecteurs $\\mathbf P_2 - \\mathbf P_1$\n",
    "et $\\mathbf u_2$ sont strictement postivement liés.\n",
    "\n",
    "En effet, si ce n'est pas le cas, il est clair que le problème n'admet pas de solution.\n",
    "\n",
    "Réciproquement, si c'est la cas, on est ramené à la résolution d'un système linéaire de 5 inconnues \n",
    "à quatre équations. Ce système admet une solution, on peut même imposer $\\alpha = 1$."
   ]
  },
  {
   "cell_type": "markdown",
   "metadata": {},
   "source": [
    "## Tâche 6"
   ]
  },
  {
   "cell_type": "code",
   "execution_count": 17,
   "metadata": {},
   "outputs": [],
   "source": [
    "def gamma(t, P1, P2, u1, u2):\n",
    "    if positivement_lies(P2 - P1, u2): # si le système admet une solution\n",
    "        a, d = P1\n",
    "        b, e = u1\n",
    "        c, f = P2 - P1 - u1 # en prenant alpha = 1 avec les notations précédentes\n",
    "        return np.array([a + b*t + c*t*t, d + e*t + f*t*t])\n",
    "    P1.resize((2, 1)) # si le système n'en admet pas\n",
    "    P2.resize((2, 1))\n",
    "    t.resize((1, len(t)))\n",
    "    return P1 + (P2 - P1).dot(t)"
   ]
  },
  {
   "cell_type": "code",
   "execution_count": 18,
   "metadata": {},
   "outputs": [
    {
     "data": {
      "text/plain": [
       "array([[ 0.        , -0.08641975, -0.12345679, -0.11111111, -0.04938272,\n",
       "         0.0617284 ,  0.22222222,  0.43209877,  0.69135802,  1.        ],\n",
       "       [ 0.        ,  0.01234568,  0.04938272,  0.11111111,  0.19753086,\n",
       "         0.30864198,  0.44444444,  0.60493827,  0.79012346,  1.        ]])"
      ]
     },
     "execution_count": 18,
     "metadata": {},
     "output_type": "execute_result"
    }
   ],
   "source": [
    "# Test\n",
    "\n",
    "P1 = np.array([0., 0.])\n",
    "P2 = np.array([1., 1.])\n",
    "u1 = np.array([-1., 0])\n",
    "u2 = np.array([1., 0.])\n",
    "v2 = np.array([1., 1.])\n",
    "\n",
    "t = np.linspace(0, 1, 10)\n",
    "gamma(t, P1, P2, u1, v2)"
   ]
  },
  {
   "cell_type": "markdown",
   "metadata": {},
   "source": [
    "## Tâche 7"
   ]
  },
  {
   "cell_type": "markdown",
   "metadata": {},
   "source": [
    "On parabolise entre deux points en prenant les dérivées de la fonction étudiée\n",
    "en $P_1$ et $P_2$ pour $u_1$ et $u_2$. Et on répartit les $N = oversampling - 1$ points sur la parabole obtenue\n",
    "en prenant $t_n = \\frac{n}{N}$ pour $n$ variant entre $1$ et $N - 1$. C'est-à-dire qu'on prend les\n",
    "$\\gamma (t_n)$."
   ]
  },
  {
   "cell_type": "code",
   "execution_count": null,
   "metadata": {},
   "outputs": [],
   "source": [
    "def level_courbe_finie2(f, x0, y0, delta = 0.1, N = 1000, eps = eps, overslamping : int) :\n",
    "    t = np.linspace(1/overslamping, 1-1/overslamping, overslamping-1) # np.arange ?\n",
    "    xp, yp = x0, y0\n",
    "    C = global c\n",
    "    res = np.empty((2, (N-1)*(overslamping-1)+N))\n",
    "    res[:, 0] = x0, y0\n",
    "    for i in range(1, N):\n",
    "        def F(x, y):\n",
    "            return (f(x, y) - C, np.sqrt((x - xp)**2 + (y - yp)**2) - delta)\n",
    "        cp = Newton(F, xp, yp, eps=eps)\n",
    "        for j in range(1, overslamping) :\n",
    "            res[:i + j] = gamma(t, res[:,i*overslamping], cp, grad(f)(res[:,i]), grad(f)(cp)) # c'est comme ça qu'on écrit grad ou alors \n",
    "        res[:, i*(overslamping+1)] = cp                                                       # c'est grad_f(x,y) ? Mais ensuite je suis pas  \n",
    "        xp, yp = cp                                                                           # sûr que ce soit le gradient qui nous \n",
    "        seg = plt.plot(res[ : i-1], res[ : i])                                                # intéresse parcequ'on regarde une courbe \n",
    "        for x in seg :                                                                        # d'équivaleur. Il faut prendre la normale.\n",
    "            if x in plt.plot(res[ : 0], res[ : 1]) :\n",
    "                return res\n",
    "    return res\n",
    "    "
   ]
  },
  {
   "cell_type": "markdown",
   "metadata": {},
   "source": [
    "## Tâche 8"
   ]
  },
  {
   "cell_type": "code",
   "execution_count": null,
   "metadata": {},
   "outputs": [],
   "source": []
  }
 ],
 "metadata": {
  "kernelspec": {
   "display_name": "Python 3",
   "language": "python",
   "name": "python3"
  },
  "language_info": {
   "codemirror_mode": {
    "name": "ipython",
    "version": 3
   },
   "file_extension": ".py",
   "mimetype": "text/x-python",
   "name": "python",
   "nbconvert_exporter": "python",
   "pygments_lexer": "ipython3",
   "version": "3.8.3-final"
  }
 },
 "nbformat": 4,
 "nbformat_minor": 4
}