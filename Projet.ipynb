{
 "cells": [
  {
   "cell_type": "markdown",
   "metadata": {},
   "source": [
    "# Projet numérique - Calcul différentiel\n",
    "Antoine Rousseau et David Castro"
   ]
  },
  {
   "cell_type": "code",
   "execution_count": 2,
   "metadata": {},
   "outputs": [],
   "source": [
    "import autograd\n",
    "import autograd.numpy as np\n",
    "\n",
    "import pandas as pd\n",
    "\n",
    "import matplotlib as mpl\n",
    "import matplotlib.pyplot as plt\n",
    "plt.rcParams['figure.figsize'] = [10, 10] # [width, height] (inches). \n",
    "\n",
    "from IPython.display import display"
   ]
  },
  {
   "cell_type": "code",
   "execution_count": 3,
   "metadata": {},
   "outputs": [],
   "source": [
    "def grad(f):\n",
    "    g = autograd.grad\n",
    "    def grad_f(x, y):\n",
    "        return np.array([g(f, 0)(x, y), g(f, 1)(x, y)])\n",
    "    return grad_f"
   ]
  },
  {
   "cell_type": "code",
   "execution_count": 4,
   "metadata": {},
   "outputs": [],
   "source": [
    "def J(f):\n",
    "    j = autograd.jacobian\n",
    "    def J_f(x, y):\n",
    "        return np.array([j(f, 0)(x, y), j(f, 1)(x, y)]).T\n",
    "    return J_f"
   ]
  },
  {
   "cell_type": "code",
   "execution_count": 5,
   "metadata": {},
   "outputs": [],
   "source": [
    "def display_contour(f, x, y, levels):\n",
    "    X, Y = np.meshgrid(x, y)\n",
    "    Z = f(X, Y)\n",
    "    fig, ax = plt.subplots()\n",
    "    contour_set = plt.contour(\n",
    "        X, Y, Z, colors=\"grey\", linestyles=\"dashed\", \n",
    "        levels=levels \n",
    "    )\n",
    "    ax.clabel(contour_set)\n",
    "    plt.grid(True)\n",
    "    plt.xlabel(\"$x_1$\") \n",
    "    plt.ylabel(\"$x_2$\")\n",
    "    plt.gca().set_aspect(\"equal\")"
   ]
  },
  {
   "cell_type": "markdown",
   "metadata": {},
   "source": [
    "# Question 1"
   ]
  },
  {
   "cell_type": "markdown",
   "metadata": {},
   "source": [
    "La courbe de niveau $c$ de $f$ est bornée car, par hypothèse, il existe $A \\in \\mathbb R$ tel que :\n",
    "$\\forall x \\in \\mathbb R^2, \\vert \\vert x \\vert \\vert \\geqslant A \\implies f(x) \\geqslant c + 1$.\n",
    "Elle est donc incluse dans $\\mathcal B (0, A)$.\n",
    "\n",
    "C'est également un fermé car $\\{c\\}$ est un fermé de $\\mathbb R$ donc, par\n",
    "continuité de $f$, $f^{-1}(\\{c\\})$ est fermé dans $\\mathbb R^2$. \n",
    "\n",
    "Comme on est en dimension finie, la courbe de niveau $c$ de $f$ est donc un compact de $\\mathbb R^2$."
   ]
  },
  {
   "cell_type": "markdown",
   "metadata": {},
   "source": [
    "# Question 2"
   ]
  },
  {
   "cell_type": "markdown",
   "metadata": {},
   "source": [
    "$ \\vec u =\\frac{1}{\\vert \\vert \\nabla f(x_0)\\vert \\vert}(\\partial_2 f(x_0), -\\partial_1 f(x_0))$\n",
    "est le vecteur normé tangent à la courbe de niveau en $x_0$."
   ]
  },
  {
   "cell_type": "markdown",
   "metadata": {},
   "source": [
    "# Question 3"
   ]
  },
  {
   "cell_type": "markdown",
   "metadata": {},
   "source": [
    "On pose $F: (x, t) \\in \\mathbb R^2 \\times \\mathbb R \\mapsto (f(x) - c, p(x) - t) \\in \\mathbb R^2$.\n",
    "\n",
    "On a bien $F$ continûment dérivable car $f$ l'est et $p$ est polynômiale et $(x_0, 0)$ solution de $F(x) = 0$.\n",
    "\n",
    "De plus, si $(x, t) \\in \\mathbb R^2 \\times \\mathbb R$,\n",
    "$\\partial_x F(x, t) =\n",
    "\\begin{pmatrix}\n",
    "        \\partial_1 f(x) &\\partial_2 f(x) \\\\\n",
    "        \\frac{1}{\\vert \\vert \\nabla f(x_0)\\vert \\vert} \\partial_2 f(x_0) \n",
    "        &-\\frac{1}{\\vert \\vert \\nabla f(x_0)\\vert \\vert} \\partial_1 f(x_0)\n",
    "\\end{pmatrix}$ \n",
    "de déterminant strictement négatif en $(x_0, 0)$ donc non nul sur un voisinage de $(x_0, 0)$ par continuité.\n",
    "\n",
    "$\\partial_x F$ est donc inversible sur un voisinage de $(x_0, 0)$.\n",
    "\n",
    "Le théorème de la fonction implicite nous donne alors le résultat."
   ]
  },
  {
   "cell_type": "markdown",
   "metadata": {},
   "source": [
    "# Question 4"
   ]
  },
  {
   "cell_type": "markdown",
   "metadata": {},
   "source": [
    "D'après le théorème de la fonction implicite, on a également\n",
    "$\\gamma'(t) = d\\gamma (t) = -[\\partial_x F(\\gamma (t), t)]^{-1} \\circ \\partial_t F(\\gamma (t), t)$.\n",
    "\n",
    "Or, pour tout $(x, t) \\in \\mathbb R^2 \\times \\mathbb R$, $\\partial_t F(x, t) = (0, -1)$ donc \n",
    "$\\gamma' (t) = \\Delta(\\gamma (t)) \\times (\\partial_2 f(\\gamma (t)), -\\partial_1 f(\\gamma (t)))$\n",
    "où $\\Delta(x) = \\frac{\\partial_1 f(x) \\partial_1 f(x_0) + \\partial_2 f(x) \\partial_1 f(x_0)}\n",
    "{\\vert \\vert \\nabla f(x_0)\\vert \\vert}$.\n",
    "\n",
    "Donc, par hypothèse, pour tout $t \\in ]-\\varepsilon, +\\varepsilon[$, $\\gamma'(t) \\ne 0$.\n",
    "\n",
    "On a bien $\\gamma'(t)$ orthogonal à $\\nabla f(\\gamma(t))$."
   ]
  },
  {
   "cell_type": "markdown",
   "metadata": {},
   "source": [
    "# Question 5"
   ]
  },
  {
   "cell_type": "raw",
   "metadata": {},
   "source": [
    "#"
   ]
  },
  {
   "cell_type": "code",
   "execution_count": 6,
   "metadata": {},
   "outputs": [],
   "source": [
    "N = 100\n",
    "eps = 10**(-8)"
   ]
  },
  {
   "cell_type": "markdown",
   "metadata": {},
   "source": [
    "## Tâche 1"
   ]
  },
  {
   "cell_type": "code",
   "execution_count": 7,
   "metadata": {},
   "outputs": [],
   "source": [
    "def Newton(F, x0, y0, eps=eps, N=N):\n",
    "    J_F = J(F)\n",
    "    x, y = x0, y0\n",
    "    for i in range(N):\n",
    "        H = np.linalg.solve(J_F(x, y), -F(x, y))\n",
    "        x += H[0]\n",
    "        y += H[1]\n",
    "        if np.sqrt((x - x0)**2 + (y - y0)**2) <= eps:\n",
    "            return x, y\n",
    "        x0, y0 = x, y\n",
    "    else:\n",
    "        raise ValueError(f\"no convergence in {N} steps.\")"
   ]
  },
  {
   "cell_type": "markdown",
   "metadata": {},
   "source": [
    "## Tâche 2"
   ]
  },
  {
   "cell_type": "code",
   "execution_count": 8,
   "metadata": {},
   "outputs": [],
   "source": [
    "def F(x1, x2):\n",
    "    return np.array([3.0 * x1 * x1 - 2.0 * x1 * x2 + 3.0 * x2 * x2 - .8, x2 - x1])"
   ]
  },
  {
   "cell_type": "code",
   "execution_count": 9,
   "metadata": {},
   "outputs": [
    {
     "data": {
      "text/plain": [
       "(0.4472135954999579, 0.4472135954999579)"
      ]
     },
     "execution_count": 9,
     "metadata": {},
     "output_type": "execute_result"
    }
   ],
   "source": [
    "Newton(F, .8, .8)"
   ]
  },
  {
   "cell_type": "markdown",
   "metadata": {},
   "source": [
    "# Question 6"
   ]
  },
  {
   "cell_type": "markdown",
   "metadata": {},
   "source": [
    "## Tâche 3"
   ]
  },
  {
   "cell_type": "raw",
   "metadata": {},
   "source": [
    " "
   ]
  },
  {
   "cell_type": "code",
   "execution_count": 10,
   "metadata": {},
   "outputs": [],
   "source": [
    "def level_curve(f, x0, y0, delta=0.1, N=1000, eps=eps):\n",
    "    xp, yp = x0, y0\n",
    "    res = np.empty((2, N))\n",
    "    res[:, 0] = x0, y0\n",
    "    for i in range(1, N):\n",
    "        def F(x, y):\n",
    "            return (f(x, y) -  global c, np.sqrt((x - xp)**2 + (y - yp)**2) - delta)\n",
    "        cp = Newton(F, xp, yp, eps=eps)\n",
    "        res[:, i] = cp\n",
    "        xp, yp = cp\n",
    "    return res\n",
    "\n",
    "# définir c\n",
    "# on a pas le fait qu'il faut aller à gauche"
   ]
  },
  {
   "cell_type": "markdown",
   "metadata": {},
   "source": [
    "# Question 7"
   ]
  },
  {
   "cell_type": "markdown",
   "metadata": {},
   "source": [
    "## Tâche 4"
   ]
  },
  {
   "cell_type": "raw",
   "metadata": {},
   "source": []
  },
  {
   "cell_type": "code",
   "execution_count": null,
   "metadata": {},
   "outputs": [],
   "source": [
    "import matplotlib.pyplot as plt\n",
    "# il faut tester avec le premier segment seulement car sinon des problèmes peuvent apparaître (courbe inachevée) comme dans le cas de la fonction de Rosenbrock.\n",
    "\n",
    "def level_courbe_finie(f, x0, y0, delta = 0.1, N = 1000, eps = eps) :\n",
    "    xp, yp = x0, y0\n",
    "    res = np.empty((2, N))\n",
    "    res[:, 0] = x0, y0\n",
    "    for i in range(1, N):\n",
    "        def F(x, y):\n",
    "            return (f(x, y) - global c, np.sqrt((x - xp)**2 + (y - yp)**2) - delta)\n",
    "        cp = Newton(F, xp, yp, eps=eps)\n",
    "        res[:, i] = cp\n",
    "        xp, yp = cp\n",
    "        seg = plt.plot(res[ : i-1], res[ : i])\n",
    "        for x in seg :\n",
    "            if x in plt.plot(res[ : 0], res[ : 1]) :\n",
    "                return res\n",
    "    return res\n"
   ]
  },
  {
   "cell_type": "code",
   "execution_count": null,
   "metadata": {},
   "outputs": [],
   "source": []
  },
  {
   "cell_type": "markdown",
   "metadata": {},
   "source": [
    "## Tâche 5"
   ]
  },
  {
   "cell_type": "code",
   "execution_count": null,
   "metadata": {},
   "outputs": [],
   "source": []
  },
  {
   "cell_type": "markdown",
   "metadata": {},
   "source": [
    "# Question 8"
   ]
  },
  {
   "cell_type": "markdown",
   "metadata": {},
   "source": [
    "Il faut :\n",
    "\n",
    "$\\begin{pmatrix} a \\\\ d \\end{pmatrix} = \\mathbf P_1$,\n",
    "$\\begin{pmatrix} a + b + c \\\\ d + e + f \\end{pmatrix} = \\mathbf P_2$,\n",
    "$\\begin{pmatrix} b \\\\ e \\end{pmatrix} = \\alpha \\mathbf u_1$ et\n",
    "$\\begin{pmatrix} b + c \\\\ e + f \\end{pmatrix} = \\beta \\mathbf u_2$\n",
    "pour $a, b, c, d, e, f, g \\in \\mathbb R$ et $\\alpha, \\beta \\in \\mathbb R_+^*$.\n",
    "\n"
   ]
  },
  {
   "cell_type": "markdown",
   "metadata": {},
   "source": [
    "Si une solution existe, $a$ et $d$ sont immédiatement déterminés.\n",
    "Ce problème admet alors une solution si et seulement si les vecteurs $\\mathbf P_2 - \\mathbf P_1$\n",
    "et $\\mathbf u_2$ sont strictement postivement liés.\n",
    "\n",
    "En effet, si ce n'est pas le cas, il est clair que le problème n'admet pas de solution.\n",
    "\n",
    "Réciproquement, si c'est la cas, on est ramené à la résolution d'un système linéaire de 5 inconnues \n",
    "à quatre équations. Ce sytstème admet une solution, on peut même imposer $\\alpha = 1$."
   ]
  },
  {
   "cell_type": "markdown",
   "metadata": {},
   "source": [
    "## Tâche 6"
   ]
  },
  {
   "cell_type": "code",
   "execution_count": null,
   "metadata": {},
   "outputs": [],
   "source": []
  },
  {
   "cell_type": "code",
   "execution_count": null,
   "metadata": {},
   "outputs": [],
   "source": []
  },
  {
   "cell_type": "markdown",
   "metadata": {},
   "source": [
    "## Tâche 7"
   ]
  },
  {
   "cell_type": "code",
   "execution_count": null,
   "metadata": {},
   "outputs": [],
   "source": []
  },
  {
   "cell_type": "markdown",
   "metadata": {},
   "source": [
    "## Tâche 8"
   ]
  },
  {
   "cell_type": "code",
   "execution_count": null,
   "metadata": {},
   "outputs": [],
   "source": []
  }
 ],
 "metadata": {
  "kernelspec": {
   "display_name": "Python 3",
   "language": "python",
   "name": "python3"
  },
  "language_info": {
   "codemirror_mode": {
    "name": "ipython",
    "version": 3
   },
   "file_extension": ".py",
   "mimetype": "text/x-python",
   "name": "python",
   "nbconvert_exporter": "python",
   "pygments_lexer": "ipython3",
   "version": "3.8.3"
  }
 },
 "nbformat": 4,
 "nbformat_minor": 4
}